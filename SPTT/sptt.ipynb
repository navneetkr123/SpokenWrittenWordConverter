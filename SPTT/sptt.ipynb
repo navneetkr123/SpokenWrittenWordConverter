{
 "cells": [
  {
   "cell_type": "code",
   "execution_count": 6,
   "metadata": {},
   "outputs": [],
   "source": [
    "#Creating dictionary of values to transform\n",
    "\n",
    "dic = {\"double a\": \"aa\", \"double b\" : \"bb\", \"double c\" : \"cc\", \"double d\" : \"dd\", \"double e\" : \"ee\",\\\n",
    "      \"double f\" : \"ff\", \"double g\" : \"gg\", \"double h\" : \"hh\", \"double i\" : \"ii\", \"double j\" : \"jj\",\\\n",
    "      \"double k\" : \"kk\", \"double l\" : \"ll\", \"double m\" : \"mm\", \"double n\" : \"nn\", \"double o\" : \"oo\",\\\n",
    "      \"double p\" : \"pp\", \"double q\" : \"qq\", \"double r\" : \"rr\", \"double s\" : \"ss\", \"double t\" : \"tt\", \\\n",
    "      \"double u\" : \"uu\", \"double v\" : \"vv\", \"double w\" : \"ww\", \"double x\" : \"xx\", \"double y\" : \"yy\", \\\n",
    "      \"tripple a\": \"aaa\", \"tripple b\" : \"bbb\", \"tripple c\" : \"ccc\", \"tripple d\" : \"ddd\", \"tripple e\" : \"eee\",\\\n",
    "      \"tripple f\": \"fff\", \"tripple g\" : \"ggg\", \"tripple h\" : \"hhh\", \"tripple i\" : \"iii\", \"tripple j\" : \"jjj\",\\\n",
    "      \"tripple k\": \"kkk\", \"tripple l\" : \"lll\", \"tripple m\" : \"mmm\", \"tripple n\" : \"nnn\", \"tripple o\" : \"ooo\",\\\n",
    "      \"tripple p\": \"ppp\", \"tripple q\" : \"qqq\", \"tripple r\" : \"rrr\", \"tripple s\" : \"sss\", \"tripple t\" : \"ttt\",\\\n",
    "      \"tripple u\": \"uuu\", \"tripple v\" : \"vvv\", \"tripple w\" : \"www\", \"tripple x\" : \"xxx\", \"tripple y\" : \"yyy\",\\\n",
    "      \"double z\" : \"zz\", \"tripple z\" : \"zzz\",\\\n",
    "      \"one dollor\": \"$1\", \"two dollor\": \"$2\", \"three dollor\": \"$3\", \"four dollor\": \"$4\", \"five dollor\": \"$5\",\\\n",
    "      \"six dollor\": \"$6\", \"seven dollor\" : \"$7\", \"eight dollor\" : \"$8\", \"nine dollor\" : \"$9\", \"dollor\" : \"$\",\\\n",
    "      \"double one\" : \"11\", \"double two\" : \"22\", \"double three\" : \"33\", \"double four\" : \"44\", \"double five\" : \"55\",\\\n",
    "      \"double six\" : \"66\", \"double seven\" : \"77\", \"double eight\" : \"88\", \"double nine\" : \"99\", \"tripple one\" : \"111\",\\\n",
    "      \"tripple two\" : \"222\", \"tripple three\" : \"333\", \"tripple four\" : \"444\", \"tripple five\" : \"555\",\\\n",
    "      \"tripple six\" : \"666\", \"tripple seven\" : \"777\", \"tripple eight\" : \"888\", \"tripple nine\" : \"999\",\\\n",
    "      \"one rupee\": \"₹1\", \"two rupee\": \"₹2\", \"three rupee\": \"₹3\", \"four rupee\": \"₹4\", \"five rupee\": \"₹5\",\\\n",
    "      \"six rupee\" : \"₹6\", \"seven rupee\" : \"₹7\", \"eight rupee\" : \"₹8\", \"nine rupee\" : \"₹9\", \"rupee\" : \"₹\"\n",
    "      }\n",
    "       \n",
    "       \n",
    "#This function will convert spoken words to written words\n",
    "# Only applicable for dataframe, list and string       \n",
    "def SpokenToText(val, dic):\n",
    "    if isinstance(val, list)==True:\n",
    "        val = [str(i) for i in val]\n",
    "        val = \" \".join(val)\n",
    "        for i, j in dic.items():\n",
    "            val = val.replace(i, j)\n",
    "        val = val.split(\" \")\n",
    "        return val\n",
    "    elif isinstance(val, str)==True:\n",
    "        for i, j in dic.items():\n",
    "            val = val.replace(i, j)\n",
    "        return val\n",
    "    else:\n",
    "        val = val.replace(to_replace = dic.keys(), value =dic.values(), regex=True) \n",
    "        return val           \n",
    "    \n",
    "# This function will add keys and value to dictionary    \n",
    "def add(dic, key, value): \n",
    "    dic[key] = value\n",
    "    return dic\n",
    "        "
   ]
  },
  {
   "cell_type": "code",
   "execution_count": null,
   "metadata": {},
   "outputs": [],
   "source": []
  }
 ],
 "metadata": {
  "kernelspec": {
   "display_name": "Python 3",
   "language": "python",
   "name": "python3"
  },
  "language_info": {
   "codemirror_mode": {
    "name": "ipython",
    "version": 3
   },
   "file_extension": ".py",
   "mimetype": "text/x-python",
   "name": "python",
   "nbconvert_exporter": "python",
   "pygments_lexer": "ipython3",
   "version": "3.6.6"
  }
 },
 "nbformat": 4,
 "nbformat_minor": 2
}
