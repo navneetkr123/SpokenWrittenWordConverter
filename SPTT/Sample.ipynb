{
 "cells": [
  {
   "cell_type": "markdown",
   "metadata": {},
   "source": [
    "# Importing sptt"
   ]
  },
  {
   "cell_type": "markdown",
   "metadata": {},
   "source": [
    "**Note**\n",
    "> If you want to convert then make sure that your data should be string, list or dataframe."
   ]
  },
  {
   "cell_type": "code",
   "execution_count": 2,
   "metadata": {},
   "outputs": [],
   "source": [
    "import sptt"
   ]
  },
  {
   "cell_type": "code",
   "execution_count": 4,
   "metadata": {},
   "outputs": [],
   "source": [
    "stri = \"on hourly basis, two person earns two dollor, five dollor respectively \""
   ]
  },
  {
   "cell_type": "code",
   "execution_count": 5,
   "metadata": {},
   "outputs": [
    {
     "data": {
      "text/plain": [
       "['on',\n",
       " 'hourly',\n",
       " 'basis,',\n",
       " 'two',\n",
       " 'person',\n",
       " 'earns',\n",
       " 'two',\n",
       " 'dollor,',\n",
       " 'five',\n",
       " 'dollor',\n",
       " 'respectively',\n",
       " '']"
      ]
     },
     "execution_count": 5,
     "metadata": {},
     "output_type": "execute_result"
    }
   ],
   "source": [
    "lst = stri.split(\" \")\n",
    "lst"
   ]
  },
  {
   "cell_type": "code",
   "execution_count": 6,
   "metadata": {},
   "outputs": [
    {
     "name": "stdout",
     "output_type": "stream",
     "text": [
      "                                                   0\n",
      "0  on hourly basis, two person earns two dollor, ...\n"
     ]
    }
   ],
   "source": [
    "import pandas as pd\n",
    "df = pd.DataFrame([x.split(';') for x in stri.split('\\n')])\n",
    "print(df)"
   ]
  },
  {
   "cell_type": "markdown",
   "metadata": {},
   "source": [
    "# Get all the dictionary first"
   ]
  },
  {
   "cell_type": "code",
   "execution_count": null,
   "metadata": {},
   "outputs": [],
   "source": [
    "# import dictionary from sptt"
   ]
  },
  {
   "cell_type": "code",
   "execution_count": 8,
   "metadata": {},
   "outputs": [
    {
     "data": {
      "text/plain": [
       "{'double a': 'aa',\n",
       " 'double b': 'bb',\n",
       " 'double c': 'cc',\n",
       " 'double d': 'dd',\n",
       " 'double e': 'ee',\n",
       " 'double f': 'ff',\n",
       " 'double g': 'gg',\n",
       " 'double h': 'hh',\n",
       " 'double i': 'ii',\n",
       " 'double j': 'jj',\n",
       " 'double k': 'kk',\n",
       " 'double l': 'll',\n",
       " 'double m': 'mm',\n",
       " 'double n': 'nn',\n",
       " 'double o': 'oo',\n",
       " 'double p': 'pp',\n",
       " 'double q': 'qq',\n",
       " 'double r': 'rr',\n",
       " 'double s': 'ss',\n",
       " 'double t': 'tt',\n",
       " 'double u': 'uu',\n",
       " 'double v': 'vv',\n",
       " 'double w': 'ww',\n",
       " 'double x': 'xx',\n",
       " 'double y': 'yy',\n",
       " 'tripple a': 'aaa',\n",
       " 'tripple b': 'bbb',\n",
       " 'tripple c': 'ccc',\n",
       " 'tripple d': 'ddd',\n",
       " 'tripple e': 'eee',\n",
       " 'tripple f': 'fff',\n",
       " 'tripple g': 'ggg',\n",
       " 'tripple h': 'hhh',\n",
       " 'tripple i': 'iii',\n",
       " 'tripple j': 'jjj',\n",
       " 'tripple k': 'kkk',\n",
       " 'tripple l': 'lll',\n",
       " 'tripple m': 'mmm',\n",
       " 'tripple n': 'nnn',\n",
       " 'tripple o': 'ooo',\n",
       " 'tripple p': 'ppp',\n",
       " 'tripple q': 'qqq',\n",
       " 'tripple r': 'rrr',\n",
       " 'tripple s': 'sss',\n",
       " 'tripple t': 'ttt',\n",
       " 'tripple u': 'uuu',\n",
       " 'tripple v': 'vvv',\n",
       " 'tripple w': 'www',\n",
       " 'tripple x': 'xxx',\n",
       " 'tripple y': 'yyy',\n",
       " 'double z': 'zz',\n",
       " 'tripple z': 'zzz',\n",
       " 'one dollor': '$1',\n",
       " 'two dollor': '$2',\n",
       " 'three dollor': '$3',\n",
       " 'four dollor': '$4',\n",
       " 'five dollor': '$5',\n",
       " 'six dollor': '$6',\n",
       " 'seven dollor': '$7',\n",
       " 'eight dollor': '$8',\n",
       " 'nine dollor': '$9',\n",
       " 'dollor': '$',\n",
       " 'double one': '11',\n",
       " 'double two': '22',\n",
       " 'double three': '33',\n",
       " 'double four': '44',\n",
       " 'double five': '55',\n",
       " 'double six': '66',\n",
       " 'double seven': '77',\n",
       " 'double eight': '88',\n",
       " 'double nine': '99',\n",
       " 'tripple one': '111',\n",
       " 'tripple two': '222',\n",
       " 'tripple three': '333',\n",
       " 'tripple four': '444',\n",
       " 'tripple five': '555',\n",
       " 'tripple six': '666',\n",
       " 'tripple seven': '777',\n",
       " 'tripple eight': '888',\n",
       " 'tripple nine': '999',\n",
       " 'one rupee': '₹1',\n",
       " 'two rupee': '₹2',\n",
       " 'three rupee': '₹3',\n",
       " 'four rupee': '₹4',\n",
       " 'five rupee': '₹5',\n",
       " 'six rupee': '₹6',\n",
       " 'seven rupee': '₹7',\n",
       " 'eight rupee': '₹8',\n",
       " 'nine rupee': '₹9',\n",
       " 'rupee': '₹'}"
      ]
     },
     "execution_count": 8,
     "metadata": {},
     "output_type": "execute_result"
    }
   ],
   "source": [
    "dic = sptt.dic\n",
    "dic"
   ]
  },
  {
   "cell_type": "markdown",
   "metadata": {},
   "source": [
    "**Suppose I want to add few more values in dictionary**"
   ]
  },
  {
   "cell_type": "code",
   "execution_count": 9,
   "metadata": {},
   "outputs": [
    {
     "data": {
      "text/plain": [
       "{'double a': 'aa',\n",
       " 'double b': 'bb',\n",
       " 'double c': 'cc',\n",
       " 'double d': 'dd',\n",
       " 'double e': 'ee',\n",
       " 'double f': 'ff',\n",
       " 'double g': 'gg',\n",
       " 'double h': 'hh',\n",
       " 'double i': 'ii',\n",
       " 'double j': 'jj',\n",
       " 'double k': 'kk',\n",
       " 'double l': 'll',\n",
       " 'double m': 'mm',\n",
       " 'double n': 'nn',\n",
       " 'double o': 'oo',\n",
       " 'double p': 'pp',\n",
       " 'double q': 'qq',\n",
       " 'double r': 'rr',\n",
       " 'double s': 'ss',\n",
       " 'double t': 'tt',\n",
       " 'double u': 'uu',\n",
       " 'double v': 'vv',\n",
       " 'double w': 'ww',\n",
       " 'double x': 'xx',\n",
       " 'double y': 'yy',\n",
       " 'tripple a': 'aaa',\n",
       " 'tripple b': 'bbb',\n",
       " 'tripple c': 'ccc',\n",
       " 'tripple d': 'ddd',\n",
       " 'tripple e': 'eee',\n",
       " 'tripple f': 'fff',\n",
       " 'tripple g': 'ggg',\n",
       " 'tripple h': 'hhh',\n",
       " 'tripple i': 'iii',\n",
       " 'tripple j': 'jjj',\n",
       " 'tripple k': 'kkk',\n",
       " 'tripple l': 'lll',\n",
       " 'tripple m': 'mmm',\n",
       " 'tripple n': 'nnn',\n",
       " 'tripple o': 'ooo',\n",
       " 'tripple p': 'ppp',\n",
       " 'tripple q': 'qqq',\n",
       " 'tripple r': 'rrr',\n",
       " 'tripple s': 'sss',\n",
       " 'tripple t': 'ttt',\n",
       " 'tripple u': 'uuu',\n",
       " 'tripple v': 'vvv',\n",
       " 'tripple w': 'www',\n",
       " 'tripple x': 'xxx',\n",
       " 'tripple y': 'yyy',\n",
       " 'double z': 'zz',\n",
       " 'tripple z': 'zzz',\n",
       " 'one dollor': '$1',\n",
       " 'two dollor': '$2',\n",
       " 'three dollor': '$3',\n",
       " 'four dollor': '$4',\n",
       " 'five dollor': '$5',\n",
       " 'six dollor': '$6',\n",
       " 'seven dollor': '$7',\n",
       " 'eight dollor': '$8',\n",
       " 'nine dollor': '$9',\n",
       " 'dollor': '$',\n",
       " 'double one': '11',\n",
       " 'double two': '22',\n",
       " 'double three': '33',\n",
       " 'double four': '44',\n",
       " 'double five': '55',\n",
       " 'double six': '66',\n",
       " 'double seven': '77',\n",
       " 'double eight': '88',\n",
       " 'double nine': '99',\n",
       " 'tripple one': '111',\n",
       " 'tripple two': '222',\n",
       " 'tripple three': '333',\n",
       " 'tripple four': '444',\n",
       " 'tripple five': '555',\n",
       " 'tripple six': '666',\n",
       " 'tripple seven': '777',\n",
       " 'tripple eight': '888',\n",
       " 'tripple nine': '999',\n",
       " 'one rupee': '₹1',\n",
       " 'two rupee': '₹2',\n",
       " 'three rupee': '₹3',\n",
       " 'four rupee': '₹4',\n",
       " 'five rupee': '₹5',\n",
       " 'six rupee': '₹6',\n",
       " 'seven rupee': '₹7',\n",
       " 'eight rupee': '₹8',\n",
       " 'nine rupee': '₹9',\n",
       " 'rupee': '₹',\n",
       " 'euro': '€'}"
      ]
     },
     "execution_count": 9,
     "metadata": {},
     "output_type": "execute_result"
    }
   ],
   "source": [
    "dic = sptt.add(dic, \"euro\", \"€\")\n",
    "dic"
   ]
  },
  {
   "cell_type": "markdown",
   "metadata": {},
   "source": [
    "**now we can see that we have added a new value in dictionary**"
   ]
  },
  {
   "cell_type": "markdown",
   "metadata": {},
   "source": [
    "# Replacing values "
   ]
  },
  {
   "cell_type": "markdown",
   "metadata": {},
   "source": [
    "**String**"
   ]
  },
  {
   "cell_type": "code",
   "execution_count": 10,
   "metadata": {},
   "outputs": [
    {
     "data": {
      "text/plain": [
       "'on hourly basis, two person earns $2, $5 respectively '"
      ]
     },
     "execution_count": 10,
     "metadata": {},
     "output_type": "execute_result"
    }
   ],
   "source": [
    "stri = sptt.SpokenToText(stri, dic)\n",
    "stri"
   ]
  },
  {
   "cell_type": "markdown",
   "metadata": {},
   "source": [
    "** now we can see that we have replaced value from spoken to written value**"
   ]
  },
  {
   "cell_type": "markdown",
   "metadata": {},
   "source": [
    "**List**"
   ]
  },
  {
   "cell_type": "code",
   "execution_count": 11,
   "metadata": {},
   "outputs": [
    {
     "data": {
      "text/plain": [
       "['on',\n",
       " 'hourly',\n",
       " 'basis,',\n",
       " 'two',\n",
       " 'person',\n",
       " 'earns',\n",
       " '$2,',\n",
       " '$5',\n",
       " 'respectively',\n",
       " '']"
      ]
     },
     "execution_count": 11,
     "metadata": {},
     "output_type": "execute_result"
    }
   ],
   "source": [
    "lst = sptt.SpokenToText(lst, dic)\n",
    "lst"
   ]
  },
  {
   "cell_type": "markdown",
   "metadata": {},
   "source": [
    "**DataFrame**"
   ]
  },
  {
   "cell_type": "code",
   "execution_count": 12,
   "metadata": {},
   "outputs": [
    {
     "data": {
      "text/html": [
       "<div>\n",
       "<style scoped>\n",
       "    .dataframe tbody tr th:only-of-type {\n",
       "        vertical-align: middle;\n",
       "    }\n",
       "\n",
       "    .dataframe tbody tr th {\n",
       "        vertical-align: top;\n",
       "    }\n",
       "\n",
       "    .dataframe thead th {\n",
       "        text-align: right;\n",
       "    }\n",
       "</style>\n",
       "<table border=\"1\" class=\"dataframe\">\n",
       "  <thead>\n",
       "    <tr style=\"text-align: right;\">\n",
       "      <th></th>\n",
       "      <th>0</th>\n",
       "    </tr>\n",
       "  </thead>\n",
       "  <tbody>\n",
       "    <tr>\n",
       "      <th>0</th>\n",
       "      <td>on hourly basis, two person earns $2, $5 respe...</td>\n",
       "    </tr>\n",
       "  </tbody>\n",
       "</table>\n",
       "</div>"
      ],
      "text/plain": [
       "                                                   0\n",
       "0  on hourly basis, two person earns $2, $5 respe..."
      ]
     },
     "execution_count": 12,
     "metadata": {},
     "output_type": "execute_result"
    }
   ],
   "source": [
    "df = sptt.SpokenToText(df, dic)\n",
    "df"
   ]
  },
  {
   "cell_type": "code",
   "execution_count": null,
   "metadata": {},
   "outputs": [],
   "source": []
  }
 ],
 "metadata": {
  "kernelspec": {
   "display_name": "Python 3",
   "language": "python",
   "name": "python3"
  },
  "language_info": {
   "codemirror_mode": {
    "name": "ipython",
    "version": 3
   },
   "file_extension": ".py",
   "mimetype": "text/x-python",
   "name": "python",
   "nbconvert_exporter": "python",
   "pygments_lexer": "ipython3",
   "version": "3.6.6"
  }
 },
 "nbformat": 4,
 "nbformat_minor": 2
}
